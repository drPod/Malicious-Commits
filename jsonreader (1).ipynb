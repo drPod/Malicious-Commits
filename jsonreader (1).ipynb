{
 "cells": [
  {
   "cell_type": "code",
   "execution_count": 13,
   "id": "d671e05d-de62-48a5-8dab-7d1c0a8465d6",
   "metadata": {},
   "outputs": [],
   "source": [
    "#package imports\n",
    "import json\n",
    "import pandas as pd\n",
    "import os"
   ]
  },
  {
   "cell_type": "code",
   "execution_count": 28,
   "id": "9b183df6-b615-455d-9aed-843c138145a9",
   "metadata": {},
   "outputs": [],
   "source": [
    "# def update_csv(json_file, csv_file):\n",
    "#     with open(json_file, 'r') as file:\n",
    "#         data = json.load(file)\n",
    "#     df = pd.DataFrame(columns = ['Length of author name', 'Length of author email', 'Length of commit message'])\n",
    "#     for i in data:\n",
    "#         for j in data[i]:\n",
    "#             k = 0\n",
    "#             while(k < len(data[i][j])):\n",
    "#                 author_length = len(data[i][j][k]['author'])\n",
    "#                 email_length = len(data[i][j][k]['author_email'])\n",
    "#                 msg_length = len(data[i][j][k]['message'])\n",
    "#                 df.loc[len(df.index)] = [author_length, email_length, msg_length]\n",
    "#                 k += 1\n",
    "#     #display(df)          \n",
    "#     df.to_csv(csv_file, index = False)\n",
    "\n",
    "# update_csv('commit_metadata.json', 'character_counts.csv')"
   ]
  },
  {
   "cell_type": "code",
   "execution_count": 36,
   "id": "83f46a98-9167-426c-ac0f-181301dc728f",
   "metadata": {},
   "outputs": [],
   "source": [
    "def update_csv(json_file, csv_file):\n",
    "    with open(json_file, 'r') as file:\n",
    "        data = json.load(file)\n",
    "    df = pd.DataFrame(columns = ['Length of author name', 'Length of author email', 'Length of commit message'])\n",
    "    for i in data:\n",
    "        j = 0\n",
    "        while(j < len(data[i])):\n",
    "                author_length = len(data[i][j]['author'])\n",
    "                email_length = len(data[i][j]['author_email'])\n",
    "                msg_length = len(data[i][j]['message'])\n",
    "                df.loc[len(df.index)] = [author_length, email_length, msg_length]\n",
    "                j += 1\n",
    "    #display(df)          \n",
    "    df.to_csv(csv_file, index = False)\n",
    "#test run\n",
    "#update_csv('jsonfolder/CVE-1999-0199.json', 'character_counts.csv')"
   ]
  },
  {
   "cell_type": "code",
   "execution_count": 17,
   "id": "8fa1ae98-d3e6-48a5-af10-6e283c36a20f",
   "metadata": {},
   "outputs": [
    {
     "ename": "TypeError",
     "evalue": "list indices must be integers or slices, not dict",
     "output_type": "error",
     "traceback": [
      "\u001b[0;31m---------------------------------------------------------------------------\u001b[0m",
      "\u001b[0;31mTypeError\u001b[0m                                 Traceback (most recent call last)",
      "Cell \u001b[0;32mIn[17], line 6\u001b[0m\n\u001b[1;32m      4\u001b[0m \u001b[38;5;28;01mif\u001b[39;00m file\u001b[38;5;241m.\u001b[39mendswith(\u001b[38;5;124m'\u001b[39m\u001b[38;5;124m.json\u001b[39m\u001b[38;5;124m'\u001b[39m):\n\u001b[1;32m      5\u001b[0m     json_file \u001b[38;5;241m=\u001b[39m os\u001b[38;5;241m.\u001b[39mpath\u001b[38;5;241m.\u001b[39mjoin(json_folder, file)\n\u001b[0;32m----> 6\u001b[0m     update_csv(json_file, csv_file)\n",
      "Cell \u001b[0;32mIn[15], line 8\u001b[0m, in \u001b[0;36mupdate_csv\u001b[0;34m(json_file, csv_file)\u001b[0m\n\u001b[1;32m      6\u001b[0m \u001b[38;5;28;01mfor\u001b[39;00m j \u001b[38;5;129;01min\u001b[39;00m data[i]:\n\u001b[1;32m      7\u001b[0m     k \u001b[38;5;241m=\u001b[39m \u001b[38;5;241m0\u001b[39m\n\u001b[0;32m----> 8\u001b[0m     \u001b[38;5;28;01mwhile\u001b[39;00m(k \u001b[38;5;241m<\u001b[39m \u001b[38;5;28mlen\u001b[39m(data[i][j])):\n\u001b[1;32m      9\u001b[0m         author_length \u001b[38;5;241m=\u001b[39m \u001b[38;5;28mlen\u001b[39m(data[i][j][k][\u001b[38;5;124m'\u001b[39m\u001b[38;5;124mauthor\u001b[39m\u001b[38;5;124m'\u001b[39m])\n\u001b[1;32m     10\u001b[0m         email_length \u001b[38;5;241m=\u001b[39m \u001b[38;5;28mlen\u001b[39m(data[i][j][k][\u001b[38;5;124m'\u001b[39m\u001b[38;5;124mauthor_email\u001b[39m\u001b[38;5;124m'\u001b[39m])\n",
      "\u001b[0;31mTypeError\u001b[0m: list indices must be integers or slices, not dict"
     ]
    }
   ],
   "source": [
    "json_folder = 'commit_metadata'\n",
    "csv_file = 'character_counts.csv'\n",
    "for file in os.listdir(json_folder):\n",
    "    if file.endswith('.json'):\n",
    "        json_file = os.path.join(json_folder, file)\n",
    "        update_csv(json_file, csv_file)"
   ]
  },
  {
   "cell_type": "code",
   "execution_count": 11,
   "id": "691a84c4-f1f9-43df-bd03-8d56f9c42e9c",
   "metadata": {},
   "outputs": [],
   "source": [
    "# ignore this block\n",
    "# current_directory = os.getcwd()\n",
    "\n",
    "# files = os.listdir(current_directory)\n",
    "\n",
    "# for file in files:\n",
    "#     if file.endswith('.json'):\n",
    "#         file_path = os.path.join(current_directory, file)\n",
    "#         os.remove(file_path)"
   ]
  },
  {
   "cell_type": "code",
   "execution_count": null,
   "id": "beb83532-abad-4213-a934-7d1868eead11",
   "metadata": {},
   "outputs": [],
   "source": []
  }
 ],
 "metadata": {
  "kernelspec": {
   "display_name": "anaconda-panel-2023.05-py310",
   "language": "python",
   "name": "conda-env-anaconda-panel-2023.05-py310-py"
  },
  "language_info": {
   "codemirror_mode": {
    "name": "ipython",
    "version": 3
   },
   "file_extension": ".py",
   "mimetype": "text/x-python",
   "name": "python",
   "nbconvert_exporter": "python",
   "pygments_lexer": "ipython3",
   "version": "3.11.5"
  }
 },
 "nbformat": 4,
 "nbformat_minor": 5
}
