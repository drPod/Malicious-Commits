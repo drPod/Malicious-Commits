{
 "cells": [
  {
   "cell_type": "code",
   "execution_count": 182,
   "id": "d671e05d-de62-48a5-8dab-7d1c0a8465d6",
   "metadata": {},
   "outputs": [],
   "source": [
    "#package imports\n",
    "import json\n",
    "import pandas as pd\n",
    "import os"
   ]
  },
  {
   "cell_type": "code",
   "execution_count": 184,
   "id": "9b183df6-b615-455d-9aed-843c138145a9",
   "metadata": {},
   "outputs": [],
   "source": [
    "def update_csv(json_file, csv_file):\n",
    "    with open(json_file, 'r') as file:\n",
    "        data = json.load(file)\n",
    "    df = pd.DataFrame(columns = ['Length of author name', 'Length of author email', 'Length of commit message'])\n",
    "    for i in data:\n",
    "        for j in data[i]:\n",
    "            k = 0\n",
    "            while(k < len(data[i][j])):\n",
    "                author_length = len(data[i][j][k]['author'])\n",
    "                email_length = len(data[i][j][k]['author_email'])\n",
    "                msg_length = len(data[i][j][k]['message'])\n",
    "                df.loc[len(df.index)] = [author_length, email_length, msg_length]\n",
    "                k += 1\n",
    "    #display(df)          \n",
    "    df.to_csv(csv_file, index = False)\n",
    "\n",
    "update_csv('commit_metadata.json', 'character_counts.csv')"
   ]
  },
  {
   "cell_type": "code",
   "execution_count": null,
   "id": "691a84c4-f1f9-43df-bd03-8d56f9c42e9c",
   "metadata": {},
   "outputs": [],
   "source": []
  }
 ],
 "metadata": {
  "kernelspec": {
   "display_name": "anaconda-panel-2023.05-py310",
   "language": "python",
   "name": "conda-env-anaconda-panel-2023.05-py310-py"
  },
  "language_info": {
   "codemirror_mode": {
    "name": "ipython",
    "version": 3
   },
   "file_extension": ".py",
   "mimetype": "text/x-python",
   "name": "python",
   "nbconvert_exporter": "python",
   "pygments_lexer": "ipython3",
   "version": "3.11.5"
  }
 },
 "nbformat": 4,
 "nbformat_minor": 5
}
